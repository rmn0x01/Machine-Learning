{
  "nbformat": 4,
  "nbformat_minor": 0,
  "metadata": {
    "colab": {
      "name": "Tugas5-CNN.ipynb",
      "version": "0.3.2",
      "provenance": [],
      "collapsed_sections": []
    },
    "kernelspec": {
      "name": "python3",
      "display_name": "Python 3"
    }
  },
  "cells": [
    {
      "metadata": {
        "id": "o_Jv3aCVPcLj",
        "colab_type": "code",
        "colab": {
          "base_uri": "https://localhost:8080/",
          "height": 34
        },
        "outputId": "22fe79c9-1f7c-4c86-f0f0-4e6d93ed5584"
      },
      "cell_type": "code",
      "source": [
        "#Impor Library yang akan digunakan (Tensorflow,)\n",
        "import tensorflow as tf\n",
        "import matplotlib.pyplot as plt\n",
        "from keras.models import Sequential\n",
        "from keras.layers import Dense, Conv2D, Dropout, Flatten, MaxPooling2D\n",
        "from keras.callbacks import History "
      ],
      "execution_count": 1,
      "outputs": [
        {
          "output_type": "stream",
          "text": [
            "Using TensorFlow backend.\n"
          ],
          "name": "stderr"
        }
      ]
    },
    {
      "metadata": {
        "id": "PbGPDou8U2Xq",
        "colab_type": "code",
        "colab": {}
      },
      "cell_type": "code",
      "source": [
        "#Ambil Dataset MNIST, pecah menjadi data training dan data test. Variabel x berisi kode RGB, variabel y berisi jawaban / angka yang benar\n",
        "(x_train, y_train), (x_test, y_test) = tf.keras.datasets.mnist.load_data()"
      ],
      "execution_count": 0,
      "outputs": []
    },
    {
      "metadata": {
        "id": "0C1jNjd9VPEn",
        "colab_type": "code",
        "colab": {
          "base_uri": "https://localhost:8080/",
          "height": 282
        },
        "outputId": "8affbcc7-a8a5-4bf7-8188-04eccb51deef"
      },
      "cell_type": "code",
      "source": [
        "#Tampilkan salah satu untuk menguji apakah data telah diunduh dengan benar, contoh disini akan mencetak data di index ke-10\n",
        "%matplotlib inline\n",
        "plt.imshow(x_train[10], cmap='Greys')"
      ],
      "execution_count": 3,
      "outputs": [
        {
          "output_type": "execute_result",
          "data": {
            "text/plain": [
              "<matplotlib.image.AxesImage at 0x7f4c17ebd9e8>"
            ]
          },
          "metadata": {
            "tags": []
          },
          "execution_count": 3
        },
        {
          "output_type": "display_data",
          "data": {
            "image/png": "[encoded data removed]",
            "text/plain": [
              "<Figure size 432x288 with 1 Axes>"
            ]
          },
          "metadata": {
            "tags": []
          }
        }
      ]
    },
    {
      "metadata": {
        "id": "7nLazBGfVnkw",
        "colab_type": "code",
        "colab": {
          "base_uri": "https://localhost:8080/",
          "height": 34
        },
        "outputId": "21b5f2ff-c758-4386-c73e-d27772c06d66"
      },
      "cell_type": "code",
      "source": [
        "#Data yang diunduh berjumlah 60000 untuk train, dengan masing - masing gambar berukuran 28 x 28 pixel\n",
        "x_train.shape"
      ],
      "execution_count": 4,
      "outputs": [
        {
          "output_type": "execute_result",
          "data": {
            "text/plain": [
              "(60000, 28, 28)"
            ]
          },
          "metadata": {
            "tags": []
          },
          "execution_count": 4
        }
      ]
    },
    {
      "metadata": {
        "id": "DBt7vjIzV30t",
        "colab_type": "code",
        "colab": {}
      },
      "cell_type": "code",
      "source": [
        "#Normalisasi input agar data dapat diolah Keras\n",
        "x_train = x_train.reshape(x_train.shape[0], 28, 28, 1)\n",
        "x_test = x_test.reshape(x_test.shape[0], 28, 28, 1)\n",
        "#Typecast ke desimal untuk memastikan hasil pembagian juga desimal\n",
        "x_train = x_train.astype('float32')\n",
        "x_test = x_test.astype('float32')\n",
        "# RGB dibagi dengan nilai maksimum RGB\n",
        "x_train /= 255\n",
        "x_test /= 255"
      ],
      "execution_count": 0,
      "outputs": []
    },
    {
      "metadata": {
        "id": "dWSF_zLlXqtj",
        "colab_type": "code",
        "colab": {
          "base_uri": "https://localhost:8080/",
          "height": 141
        },
        "outputId": "40aaa484-39da-4645-f11b-79c44cf8f707"
      },
      "cell_type": "code",
      "source": [
        "#Skema Arsitektur CNN (2D Convolution Layer)\n",
        "#Model sekuensial\n",
        "model = Sequential()\n",
        "model.add(Conv2D(28, kernel_size=(3,3), input_shape=(28, 28, 1)))\n",
        "model.add(MaxPooling2D(pool_size=(2, 2)))\n",
        "model.add(Flatten())\n",
        "model.add(Dense(128, activation=tf.nn.relu))\n",
        "model.add(Dropout(0.2))\n",
        "model.add(Dense(10,activation=tf.nn.softmax))"
      ],
      "execution_count": 6,
      "outputs": [
        {
          "output_type": "stream",
          "text": [
            "WARNING:tensorflow:From /usr/local/lib/python3.6/dist-packages/tensorflow/python/framework/op_def_library.py:263: colocate_with (from tensorflow.python.framework.ops) is deprecated and will be removed in a future version.\n",
            "Instructions for updating:\n",
            "Colocations handled automatically by placer.\n",
            "WARNING:tensorflow:From /usr/local/lib/python3.6/dist-packages/keras/backend/tensorflow_backend.py:3445: calling dropout (from tensorflow.python.ops.nn_ops) with keep_prob is deprecated and will be removed in a future version.\n",
            "Instructions for updating:\n",
            "Please use `rate` instead of `keep_prob`. Rate should be set to `rate = 1 - keep_prob`.\n"
          ],
          "name": "stdout"
        }
      ]
    },
    {
      "metadata": {
        "id": "38n39zsaZrWi",
        "colab_type": "code",
        "colab": {
          "base_uri": "https://localhost:8080/",
          "height": 347
        },
        "outputId": "9ca64d20-ae14-491e-c833-6a2afa3e7dad"
      },
      "cell_type": "code",
      "source": [
        "model.summary()"
      ],
      "execution_count": 7,
      "outputs": [
        {
          "output_type": "stream",
          "text": [
            "_________________________________________________________________\n",
            "Layer (type)                 Output Shape              Param #   \n",
            "=================================================================\n",
            "conv2d_1 (Conv2D)            (None, 26, 26, 28)        280       \n",
            "_________________________________________________________________\n",
            "max_pooling2d_1 (MaxPooling2 (None, 13, 13, 28)        0         \n",
            "_________________________________________________________________\n",
            "flatten_1 (Flatten)          (None, 4732)              0         \n",
            "_________________________________________________________________\n",
            "dense_1 (Dense)              (None, 128)               605824    \n",
            "_________________________________________________________________\n",
            "dropout_1 (Dropout)          (None, 128)               0         \n",
            "_________________________________________________________________\n",
            "dense_2 (Dense)              (None, 10)                1290      \n",
            "=================================================================\n",
            "Total params: 607,394\n",
            "Trainable params: 607,394\n",
            "Non-trainable params: 0\n",
            "_________________________________________________________________\n"
          ],
          "name": "stdout"
        }
      ]
    },
    {
      "metadata": {
        "id": "5lY67NuZagW-",
        "colab_type": "code",
        "colab": {
          "base_uri": "https://localhost:8080/",
          "height": 436
        },
        "outputId": "f11a82f6-4626-4364-c67b-2d469c1c291f"
      },
      "cell_type": "code",
      "source": [
        "history = History()\n",
        "model.compile(optimizer='adam', \n",
        "              loss='sparse_categorical_crossentropy', \n",
        "              metrics=['accuracy'])\n",
        "train_result = model.fit(x=x_train,y=y_train, epochs=10,callbacks=[history])"
      ],
      "execution_count": 8,
      "outputs": [
        {
          "output_type": "stream",
          "text": [
            "WARNING:tensorflow:From /usr/local/lib/python3.6/dist-packages/tensorflow/python/ops/math_ops.py:3066: to_int32 (from tensorflow.python.ops.math_ops) is deprecated and will be removed in a future version.\n",
            "Instructions for updating:\n",
            "Use tf.cast instead.\n",
            "Epoch 1/10\n",
            "60000/60000 [==============================] - 44s 731us/step - loss: 0.1960 - acc: 0.9416\n",
            "Epoch 2/10\n",
            "60000/60000 [==============================] - 45s 749us/step - loss: 0.0775 - acc: 0.9759\n",
            "Epoch 3/10\n",
            "60000/60000 [==============================] - 45s 750us/step - loss: 0.0548 - acc: 0.9827\n",
            "Epoch 4/10\n",
            "60000/60000 [==============================] - 45s 756us/step - loss: 0.0438 - acc: 0.9850\n",
            "Epoch 5/10\n",
            "60000/60000 [==============================] - 46s 765us/step - loss: 0.0336 - acc: 0.9894\n",
            "Epoch 6/10\n",
            "60000/60000 [==============================] - 47s 776us/step - loss: 0.0296 - acc: 0.9901\n",
            "Epoch 7/10\n",
            "60000/60000 [==============================] - 48s 798us/step - loss: 0.0247 - acc: 0.9915\n",
            "Epoch 8/10\n",
            "60000/60000 [==============================] - 46s 772us/step - loss: 0.0220 - acc: 0.9927\n",
            "Epoch 9/10\n",
            "60000/60000 [==============================] - 46s 773us/step - loss: 0.0198 - acc: 0.9932\n",
            "Epoch 10/10\n",
            "60000/60000 [==============================] - 46s 772us/step - loss: 0.0175 - acc: 0.9940\n"
          ],
          "name": "stdout"
        }
      ]
    },
    {
      "metadata": {
        "id": "oYzcNyNIchVb",
        "colab_type": "code",
        "colab": {
          "base_uri": "https://localhost:8080/",
          "height": 54
        },
        "outputId": "b12bb36a-90f1-455f-f52c-d0a51023cdef"
      },
      "cell_type": "code",
      "source": [
        "print(train_result.history['loss'])"
      ],
      "execution_count": 10,
      "outputs": [
        {
          "output_type": "stream",
          "text": [
            "[0.1960166320408384, 0.07745663879575829, 0.05480073008060766, 0.04375499588744715, 0.03355778095580172, 0.02959046536992634, 0.024698698502800348, 0.022032757410335276, 0.01981970316116834, 0.017463156816092548]\n"
          ],
          "name": "stdout"
        }
      ]
    },
    {
      "metadata": {
        "id": "9BAMv7qPlYsT",
        "colab_type": "code",
        "colab": {
          "base_uri": "https://localhost:8080/",
          "height": 279
        },
        "outputId": "038307ee-59d9-480b-b41f-c0a05aa260a0"
      },
      "cell_type": "code",
      "source": [
        "plt.plot(train_result.history['loss'],label='Training')\n",
        "plt.ylabel('Loss')\n",
        "plt.xlabel('Epoch')\n",
        "plt.legend()\n",
        "plt.show()"
      ],
      "execution_count": 11,
      "outputs": [
        {
          "output_type": "display_data",
          "data": {
            "image/png": "[encoded data removed]",
            "text/plain": [
              "<Figure size 432x288 with 1 Axes>"
            ]
          },
          "metadata": {
            "tags": []
          }
        }
      ]
    },
    {
      "metadata": {
        "id": "VbJFAM5flt4E",
        "colab_type": "code",
        "colab": {
          "base_uri": "https://localhost:8080/",
          "height": 279
        },
        "outputId": "9e75566a-d655-4f88-ed64-05603f25f997"
      },
      "cell_type": "code",
      "source": [
        "plt.plot(train_result.history['acc'],label='Training')\n",
        "plt.ylabel('Accuracy')\n",
        "plt.xlabel('Epoch')\n",
        "plt.legend()\n",
        "plt.show()"
      ],
      "execution_count": 12,
      "outputs": [
        {
          "output_type": "display_data",
          "data": {
            "image/png": "[encoded data removed]",
            "text/plain": [
              "<Figure size 432x288 with 1 Axes>"
            ]
          },
          "metadata": {
            "tags": []
          }
        }
      ]
    },
    {
      "metadata": {
        "id": "VpInuI9Hk3Xa",
        "colab_type": "code",
        "colab": {
          "base_uri": "https://localhost:8080/",
          "height": 52
        },
        "outputId": "61f41b99-d967-4264-9504-19830f595f91"
      },
      "cell_type": "code",
      "source": [
        "model.evaluate(x_test, y_test)"
      ],
      "execution_count": 14,
      "outputs": [
        {
          "output_type": "stream",
          "text": [
            "10000/10000 [==============================] - 2s 228us/step\n"
          ],
          "name": "stdout"
        },
        {
          "output_type": "execute_result",
          "data": {
            "text/plain": [
              "[0.06420812038613112, 0.9843]"
            ]
          },
          "metadata": {
            "tags": []
          },
          "execution_count": 14
        }
      ]
    }
  ]
}